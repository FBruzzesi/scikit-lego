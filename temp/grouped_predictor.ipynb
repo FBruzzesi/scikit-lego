{
 "cells": [
  {
   "cell_type": "code",
   "execution_count": 1,
   "metadata": {},
   "outputs": [],
   "source": [
    "%load_ext autoreload\n",
    "%autoreload 2"
   ]
  },
  {
   "cell_type": "code",
   "execution_count": 2,
   "metadata": {},
   "outputs": [
    {
     "name": "stdout",
     "output_type": "stream",
     "text": [
      "numpy       : 1.26.1\n",
      "scikit-learn: 1.3.2\n",
      "scikit-lego : 0.7.4\n",
      "\n"
     ]
    }
   ],
   "source": [
    "%load_ext watermark\n",
    "%watermark --packages numpy,scikit-learn,scikit-lego"
   ]
  },
  {
   "cell_type": "code",
   "execution_count": 3,
   "metadata": {},
   "outputs": [],
   "source": [
    "import pandas as pd\n",
    "import numpy as np\n",
    "\n",
    "from sklearn.datasets import make_regression\n",
    "from sklearn.linear_model import LogisticRegression, LinearRegression\n",
    "from sklearn.metrics import r2_score, mean_squared_error\n",
    "\n",
    "from sklego.datasets import load_hearts\n",
    "from sklego.meta._grouped_utils import relative_shrinkage, min_n_obs_shrinkage\n",
    "from sklego.meta.grouped_predictor import GroupedPredictor\n"
   ]
  },
  {
   "cell_type": "markdown",
   "metadata": {},
   "source": [
    "# Regression"
   ]
  },
  {
   "cell_type": "code",
   "execution_count": 4,
   "metadata": {},
   "outputs": [
    {
     "name": "stdout",
     "output_type": "stream",
     "text": [
      "shrinkage: None, use_global: True, fallback: global\n",
      "0.9999977050654287\n",
      "dict_keys([(1,), (1, 0, 0), (1, 0, 1), (1, 0, 2), (1, 0, 3), (1, 1, 0), (1, 1, 1), (1, 1, 2), (1, 1, 3)])\n",
      "\n",
      "shrinkage: None, use_global: True, fallback: next\n",
      "0.9999959205842953\n",
      "dict_keys([(1,), (1, 0), (1, 1), (1, 0, 0), (1, 0, 1), (1, 0, 2), (1, 0, 3), (1, 1, 0), (1, 1, 1), (1, 1, 2), (1, 1, 3)])\n",
      "\n",
      "shrinkage: None, use_global: False, fallback: next\n",
      "0.9999959205842953\n",
      "dict_keys([(0,), (1,), (0, 0), (0, 1), (0, 2), (0, 3), (1, 0), (1, 1), (1, 2), (1, 3)])\n",
      "\n",
      "shrinkage: None, use_global: False, fallback: raise\n",
      "2\n",
      "\n",
      "shrinkage: relative, use_global: True, fallback: global\n",
      "0.8219989950988353\n",
      "dict_keys([(1,), (1, 0), (1, 1), (1, 0, 0), (1, 0, 1), (1, 0, 2), (1, 0, 3), (1, 1, 0), (1, 1, 1), (1, 1, 2), (1, 1, 3)])\n",
      "\n",
      "shrinkage: relative, use_global: True, fallback: next\n",
      "0.8219984523950433\n",
      "dict_keys([(1,), (1, 0), (1, 1), (1, 0, 0), (1, 0, 1), (1, 0, 2), (1, 0, 3), (1, 1, 0), (1, 1, 1), (1, 1, 2), (1, 1, 3)])\n",
      "\n",
      "shrinkage: relative, use_global: False, fallback: next\n",
      "0.877698261934666\n",
      "dict_keys([(0,), (1,), (0, 0), (0, 1), (0, 2), (0, 3), (1, 0), (1, 1), (1, 2), (1, 3)])\n",
      "\n",
      "shrinkage: relative, use_global: False, fallback: raise\n",
      "\"No fallback/parent estimator found for the given group values: ['g1', 'g2']=(0, 4)\"\n",
      "\n"
     ]
    }
   ],
   "source": [
    "size = 1000\n",
    "df = (pd.DataFrame(np.random.randn(1000, 4), columns=list(\"abcd\"))\n",
    "    .assign(\n",
    "        g1 = np.random.randint(0, 2, size),\n",
    "        g2 = np.random.randint(0, 4, size),\n",
    "        target = lambda t: (t[\"g1\"] + t[\"g2\"]) * t[\"a\"] + t[\"b\"]\n",
    "    ))\n",
    "\n",
    "target = \"target\"\n",
    "groups = [\"g1\", \"g2\"]\n",
    "\n",
    "X, y = df.drop(columns=target), df[target]\n",
    "\n",
    "for shrinkage in (None, \"relative\"):\n",
    "    for use_global, fallback in [(True, \"global\"), (True, \"next\"), (False, \"next\"), (False, \"raise\")]:\n",
    "\n",
    "        print(f\"shrinkage: {shrinkage}, use_global: {use_global}, fallback: {fallback}\")\n",
    "\n",
    "        try:\n",
    "            model = GroupedPredictor(\n",
    "                LinearRegression(),\n",
    "                groups=groups,\n",
    "                use_global_model=use_global,\n",
    "                shrinkage=shrinkage,\n",
    "                fallback_method=fallback\n",
    "            )\n",
    "            _ = model.fit(X, y)\n",
    "\n",
    "            X_pred = X.copy()\n",
    "            X_pred.loc[size-1, \"g2\"] = 4 # -> This group value is not in the training data, hence the fallback method is used\n",
    "\n",
    "            preds = model.predict(X_pred)\n",
    "            print(r2_score(y, preds))\n",
    "            print(model.estimators_.keys())\n",
    "\n",
    "        except KeyError as e:\n",
    "            print(e)\n",
    "\n",
    "        print()\n",
    "# The case (shrinkage: None, use_global: False, fallback: raise) breaks with KeyError but the error message is unclear\n"
   ]
  },
  {
   "cell_type": "markdown",
   "metadata": {},
   "source": [
    "# Classification\n",
    "\n",
    "This first case is the [one reported](https://github.com/koaning/scikit-lego/issues/616) that \"triggered\" this all rework, to which I am adding an extra group, called `random`."
   ]
  },
  {
   "cell_type": "code",
   "execution_count": 5,
   "metadata": {},
   "outputs": [],
   "source": [
    "size = 303\n",
    "df = (\n",
    "    load_hearts(as_frame=True)\n",
    "    .drop(columns=['thal'])\n",
    "    .assign(random = np.random.randint(0, 3, size))\n",
    "    )\n",
    "\n",
    "target = \"target\"\n",
    "groups = [\"sex\", \"random\"]\n",
    "\n",
    "X, y = df.drop(columns=target), df[target]\n",
    "\n",
    "model = GroupedPredictor(\n",
    "    LogisticRegression(max_iter=1000), groups=groups,\n",
    "    use_global_model=True, shrinkage=\"relative\",\n",
    ").fit(X, y)"
   ]
  },
  {
   "cell_type": "code",
   "execution_count": 6,
   "metadata": {},
   "outputs": [],
   "source": [
    "preds = model.predict(X)\n",
    "assert np.logical_or(preds == 0, preds == 1).all()"
   ]
  },
  {
   "cell_type": "code",
   "execution_count": 7,
   "metadata": {},
   "outputs": [],
   "source": [
    "probas = model.predict_proba(X)\n",
    "assert np.allclose(probas.sum(axis=1), 1.)"
   ]
  },
  {
   "cell_type": "markdown",
   "metadata": {},
   "source": [
    "## Another Classification Task \n",
    "\n",
    "This one follows from the case raise in [#579](https://github.com/koaning/scikit-lego/issues/579), where subgroups can have different labels.\n",
    "The example is taken from the unit tests."
   ]
  },
  {
   "cell_type": "code",
   "execution_count": 8,
   "metadata": {},
   "outputs": [
    {
     "data": {
      "text/plain": [
       "array([[0.3418046 , 0.32449327, 0.33370213, 0.        ],\n",
       "       [0.35561696, 0.32769173, 0.31669131, 0.        ],\n",
       "       [0.34193341, 0.32452521, 0.33354138, 0.        ],\n",
       "       ...,\n",
       "       [0.50098164, 0.        , 0.        , 0.49901836],\n",
       "       [0.51933877, 0.        , 0.        , 0.48066123],\n",
       "       [0.4972803 , 0.        , 0.        , 0.5027197 ]])"
      ]
     },
     "execution_count": 8,
     "metadata": {},
     "output_type": "execute_result"
    }
   ],
   "source": [
    "group_size = 1000\n",
    "\n",
    "# y_choices_grpa, y_choices_grpb = [0, 1, 2], [0, 1, 2, 4]\n",
    "# y_choices_grpa, y_choices_grpb = [0, 2], [0, 2]\n",
    "# y_choices_grpa, y_choices_grpb = [0, 1, 2, 3], [0, 4]\n",
    "y_choices_grpa, y_choices_grpb = [0, 1, 2], [0,  3]\n",
    "\n",
    "group_col = np.repeat([\"A\", \"B\"], group_size)\n",
    "x_col = np.random.normal(size=group_size * 2)\n",
    "y_col = np.hstack(\n",
    "[\n",
    "    np.random.choice(y_choices_grpa, size=group_size),\n",
    "    np.random.choice(y_choices_grpb, size=group_size),\n",
    "]\n",
    ")\n",
    "df = pd.DataFrame({\"group\": group_col, \"x\": x_col, \"y\": y_col})\n",
    "\n",
    "model = GroupedPredictor(\n",
    "    estimator=LogisticRegression(),\n",
    "    groups=\"group\",\n",
    "    use_global_model=True,\n",
    "    # shrinkage=\"relative\",\n",
    "    )\n",
    "X, y = (df[[\"group\", \"x\"]], df[\"y\"])\n",
    "_ = model.fit(X, y)\n",
    "y_proba = model.predict_proba(X)\n",
    "\n",
    "assert np.allclose(y_proba.sum(axis=1), 1.)\n",
    "y_proba"
   ]
  },
  {
   "cell_type": "markdown",
   "metadata": {},
   "source": [
    "As one can see the last column (label 3) is always 0 for the first group, and label 1 and 2 are always 0 for the second group as expected."
   ]
  }
 ],
 "metadata": {
  "kernelspec": {
   "display_name": "base",
   "language": "python",
   "name": "python3"
  },
  "language_info": {
   "codemirror_mode": {
    "name": "ipython",
    "version": 3
   },
   "file_extension": ".py",
   "mimetype": "text/x-python",
   "name": "python",
   "nbconvert_exporter": "python",
   "pygments_lexer": "ipython3",
   "version": "3.10.13"
  }
 },
 "nbformat": 4,
 "nbformat_minor": 2
}
